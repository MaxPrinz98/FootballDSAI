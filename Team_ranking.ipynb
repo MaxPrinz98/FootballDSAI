{
 "cells": [
  {
   "cell_type": "code",
   "execution_count": 2,
   "id": "65287af0",
   "metadata": {},
   "outputs": [],
   "source": [
    "# Custom Modules import\n",
    "from util.data_loader import load_competitions, load_matches\n",
    "from util.league_table import generate_league_table\n",
    "from util.elo_calculator import initialize_team_stats, calculate_elo_ratings, loss_from_comparing_tables, elo_grid_search\n",
    "\n",
    "from statsbombpy import sb\n",
    "import pandas as pd\n",
    "import matplotlib.pyplot as plt\n",
    "from datetime import timedelta\n",
    "import seaborn as sns\n",
    "from mpl_toolkits.mplot3d import Axes3D\n",
    "\n",
    "%load_ext autoreload \n",
    "%autoreload 2"
   ]
  },
  {
   "cell_type": "markdown",
   "id": "b8fb9f06",
   "metadata": {},
   "source": [
    "# Nuanced Team Strength Model\n",
    "\n",
    "### Used Features to quantify Team Stregnth:\n",
    "- Possession\n",
    "- Shots on Goal/on Target\n",
    "- Passes \n",
    "- Duels\n",
    "- \n"
   ]
  },
  {
   "cell_type": "code",
   "execution_count": 3,
   "id": "6cf255d5",
   "metadata": {},
   "outputs": [
    {
     "name": "stderr",
     "output_type": "stream",
     "text": [
      "/Users/mpr/anaconda3/envs/BDEProject/lib/python3.12/site-packages/statsbombpy/api_client.py:21: NoAuthWarning: credentials were not supplied. open data access only\n",
      "  warnings.warn(\n"
     ]
    },
    {
     "data": {
      "text/plain": [
       "(3691, 91)"
      ]
     },
     "execution_count": 3,
     "metadata": {},
     "output_type": "execute_result"
    }
   ],
   "source": [
    "events = sb.events(match_id=3890259)\n",
    "events.shape"
   ]
  },
  {
   "cell_type": "code",
   "execution_count": 4,
   "id": "3a5d4010",
   "metadata": {},
   "outputs": [
    {
     "name": "stdout",
     "output_type": "stream",
     "text": [
      "['Starting XI' 'Half Start' 'Pass' 'Pressure' 'Ball Receipt*' 'Carry'\n",
      " 'Duel' 'Clearance' 'Ball Recovery' 'Interception' 'Dispossessed'\n",
      " 'Miscontrol' 'Block' 'Foul Committed' 'Foul Won' 'Shot' 'Goal Keeper'\n",
      " 'Shield' '50/50' 'Dribble' 'Dribbled Past' 'Injury Stoppage' 'Player Off'\n",
      " 'Player On' 'Half End' 'Error' 'Substitution' 'Tactical Shift']\n"
     ]
    }
   ],
   "source": [
    "distinct_types = events['type'].unique()\n",
    "print(distinct_types)"
   ]
  },
  {
   "cell_type": "code",
   "execution_count": 5,
   "id": "0b087279",
   "metadata": {},
   "outputs": [
    {
     "data": {
      "application/vnd.microsoft.datawrangler.viewer.v0+json": {
       "columns": [
        {
         "name": "index",
         "rawType": "int64",
         "type": "integer"
        },
        {
         "name": "team",
         "rawType": "object",
         "type": "string"
        },
        {
         "name": "type",
         "rawType": "object",
         "type": "string"
        },
        {
         "name": "count",
         "rawType": "int64",
         "type": "integer"
        }
       ],
       "ref": "9739cbd7-3557-409f-99cd-cc27e9ed8736",
       "rows": [
        [
         "18",
         "Bayern Munich",
         "Pass",
         "797"
        ],
        [
         "43",
         "Hamburger SV",
         "Pass",
         "240"
        ]
       ],
       "shape": {
        "columns": 3,
        "rows": 2
       }
      },
      "text/html": [
       "<div>\n",
       "<style scoped>\n",
       "    .dataframe tbody tr th:only-of-type {\n",
       "        vertical-align: middle;\n",
       "    }\n",
       "\n",
       "    .dataframe tbody tr th {\n",
       "        vertical-align: top;\n",
       "    }\n",
       "\n",
       "    .dataframe thead th {\n",
       "        text-align: right;\n",
       "    }\n",
       "</style>\n",
       "<table border=\"1\" class=\"dataframe\">\n",
       "  <thead>\n",
       "    <tr style=\"text-align: right;\">\n",
       "      <th></th>\n",
       "      <th>team</th>\n",
       "      <th>type</th>\n",
       "      <th>count</th>\n",
       "    </tr>\n",
       "  </thead>\n",
       "  <tbody>\n",
       "    <tr>\n",
       "      <th>18</th>\n",
       "      <td>Bayern Munich</td>\n",
       "      <td>Pass</td>\n",
       "      <td>797</td>\n",
       "    </tr>\n",
       "    <tr>\n",
       "      <th>43</th>\n",
       "      <td>Hamburger SV</td>\n",
       "      <td>Pass</td>\n",
       "      <td>240</td>\n",
       "    </tr>\n",
       "  </tbody>\n",
       "</table>\n",
       "</div>"
      ],
      "text/plain": [
       "             team  type  count\n",
       "18  Bayern Munich  Pass    797\n",
       "43   Hamburger SV  Pass    240"
      ]
     },
     "execution_count": 5,
     "metadata": {},
     "output_type": "execute_result"
    }
   ],
   "source": [
    "# pass_outcome,\n",
    "result = events.groupby(['team', 'type']).size().reset_index(name='count').sort_values(by='count', ascending=False)\n",
    "result[result['type']== 'Pass']"
   ]
  },
  {
   "cell_type": "code",
   "execution_count": 6,
   "id": "2018dbdf",
   "metadata": {},
   "outputs": [
    {
     "name": "stdout",
     "output_type": "stream",
     "text": [
      "[nan 'Incomplete' 'Out' 'Unknown' 'Pass Offside']\n"
     ]
    }
   ],
   "source": [
    "print(events['pass_outcome'].unique())"
   ]
  },
  {
   "cell_type": "code",
   "execution_count": 8,
   "id": "be1c4f1a",
   "metadata": {},
   "outputs": [
    {
     "data": {
      "application/vnd.microsoft.datawrangler.viewer.v0+json": {
       "columns": [
        {
         "name": "index",
         "rawType": "int64",
         "type": "integer"
        },
        {
         "name": "team",
         "rawType": "object",
         "type": "string"
        },
        {
         "name": "completed_passes",
         "rawType": "int64",
         "type": "integer"
        },
        {
         "name": "total_passes",
         "rawType": "int64",
         "type": "integer"
        },
        {
         "name": "completion_percentage",
         "rawType": "float64",
         "type": "float"
        }
       ],
       "ref": "466e4cfa-c5e8-48fa-9517-3aa855c4d55b",
       "rows": [
        [
         "0",
         "Bayern Munich",
         "711",
         "797",
         "89.20953575909661"
        ],
        [
         "1",
         "Hamburger SV",
         "150",
         "240",
         "62.5"
        ]
       ],
       "shape": {
        "columns": 4,
        "rows": 2
       }
      },
      "text/html": [
       "<div>\n",
       "<style scoped>\n",
       "    .dataframe tbody tr th:only-of-type {\n",
       "        vertical-align: middle;\n",
       "    }\n",
       "\n",
       "    .dataframe tbody tr th {\n",
       "        vertical-align: top;\n",
       "    }\n",
       "\n",
       "    .dataframe thead th {\n",
       "        text-align: right;\n",
       "    }\n",
       "</style>\n",
       "<table border=\"1\" class=\"dataframe\">\n",
       "  <thead>\n",
       "    <tr style=\"text-align: right;\">\n",
       "      <th></th>\n",
       "      <th>team</th>\n",
       "      <th>completed_passes</th>\n",
       "      <th>total_passes</th>\n",
       "      <th>completion_percentage</th>\n",
       "    </tr>\n",
       "  </thead>\n",
       "  <tbody>\n",
       "    <tr>\n",
       "      <th>0</th>\n",
       "      <td>Bayern Munich</td>\n",
       "      <td>711</td>\n",
       "      <td>797</td>\n",
       "      <td>89.209536</td>\n",
       "    </tr>\n",
       "    <tr>\n",
       "      <th>1</th>\n",
       "      <td>Hamburger SV</td>\n",
       "      <td>150</td>\n",
       "      <td>240</td>\n",
       "      <td>62.500000</td>\n",
       "    </tr>\n",
       "  </tbody>\n",
       "</table>\n",
       "</div>"
      ],
      "text/plain": [
       "            team  completed_passes  total_passes  completion_percentage\n",
       "0  Bayern Munich               711           797              89.209536\n",
       "1   Hamburger SV               150           240              62.500000"
      ]
     },
     "execution_count": 8,
     "metadata": {},
     "output_type": "execute_result"
    }
   ],
   "source": [
    "# Calculate completed passes (successful passes with no outcome)\n",
    "completed_passes = (events[(events['type'] == 'Pass') & \n",
    "                         (events['pass_outcome'].isnull())]\n",
    "                  .groupby('team')\n",
    "                  .size()\n",
    "                  .reset_index(name='completed_passes'))\n",
    "\n",
    "# Calculate total passes\n",
    "total_passes = (events[events['type'] == 'Pass']\n",
    "               .groupby('team')\n",
    "               .size()\n",
    "               .reset_index(name='total_passes'))\n",
    "\n",
    "# Merge the two DataFrames\n",
    "pass_stats = pd.merge(completed_passes, total_passes, on='team')\n",
    "\n",
    "# Calculate completion percentage\n",
    "pass_stats['completion_percentage'] = (pass_stats['completed_passes'] / \n",
    "                                     pass_stats['total_passes']) * 100\n",
    "\n",
    "# Sort by completion percentage\n",
    "pass_stats = pass_stats.sort_values('completion_percentage', ascending=False)\n",
    "\n",
    "pass_stats.head()"
   ]
  }
 ],
 "metadata": {
  "kernelspec": {
   "display_name": "BDEProject",
   "language": "python",
   "name": "python3"
  },
  "language_info": {
   "codemirror_mode": {
    "name": "ipython",
    "version": 3
   },
   "file_extension": ".py",
   "mimetype": "text/x-python",
   "name": "python",
   "nbconvert_exporter": "python",
   "pygments_lexer": "ipython3",
   "version": "3.12.4"
  }
 },
 "nbformat": 4,
 "nbformat_minor": 5
}
