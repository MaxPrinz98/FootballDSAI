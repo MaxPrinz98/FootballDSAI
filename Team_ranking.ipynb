{
 "cells": [
  {
   "cell_type": "code",
   "execution_count": 2,
   "id": "65287af0",
   "metadata": {},
   "outputs": [
    {
     "name": "stdout",
     "output_type": "stream",
     "text": [
      "The autoreload extension is already loaded. To reload it, use:\n",
      "  %reload_ext autoreload\n"
     ]
    }
   ],
   "source": [
    "# Custom Modules import\n",
    "from util.data_loader import load_competitions, load_matches\n",
    "from util.league_table import generate_league_table\n",
    "from util.elo_calculator import initialize_team_stats, calculate_elo_ratings, loss_from_comparing_tables, elo_grid_search\n",
    "\n",
    "from statsbombpy import sb\n",
    "import pandas as pd\n",
    "import matplotlib.pyplot as plt\n",
    "from datetime import timedelta\n",
    "import seaborn as sns\n",
    "from mpl_toolkits.mplot3d import Axes3D\n",
    "\n",
    "%load_ext autoreload \n",
    "%autoreload 2"
   ]
  },
  {
   "cell_type": "markdown",
   "id": "b8fb9f06",
   "metadata": {},
   "source": [
    "# Nuanced Team Strength Model\n",
    "\n",
    "### Legend:  \n",
    "🔴- to do <br>\n",
    "🟠- in progress <br>\n",
    "🟢- done <br>\n",
    "\n",
    "\n",
    "### Used Features to quantify Team Stregnth:\n",
    "- 🔴 Possession\n",
    "- 🟢Shots on Goal/ 🔴 on Target\n",
    "- 🟢Passes \n",
    "- 🟠Duels\n",
    "\n",
    "\n",
    "### Other Features used to predict Match Outcomes:\n",
    "- 🔴 Last 5 matches\n",
    "- 🔴 Starting XI\n",
    "- 🔴 Stakes of the match \n",
    "- 🔴 Injured/Penalized players\n",
    "- "
   ]
  },
  {
   "cell_type": "code",
   "execution_count": 3,
   "id": "6cf255d5",
   "metadata": {},
   "outputs": [
    {
     "name": "stderr",
     "output_type": "stream",
     "text": [
      "C:\\Users\\Max\\AppData\\Roaming\\Python\\Python312\\site-packages\\statsbombpy\\api_client.py:21: NoAuthWarning: credentials were not supplied. open data access only\n",
      "  warnings.warn(\n"
     ]
    },
    {
     "data": {
      "text/plain": [
       "(3691, 91)"
      ]
     },
     "execution_count": 3,
     "metadata": {},
     "output_type": "execute_result"
    }
   ],
   "source": [
    "events = sb.events(match_id=3890259)\n",
    "events.shape"
   ]
  },
  {
   "cell_type": "code",
   "execution_count": 61,
   "id": "3a5d4010",
   "metadata": {},
   "outputs": [
    {
     "name": "stdout",
     "output_type": "stream",
     "text": [
      "------------distinct_types----------------\n",
      "['Starting XI' 'Half Start' 'Pass' 'Pressure' 'Ball Receipt*' 'Carry'\n",
      " 'Duel' 'Clearance' 'Ball Recovery' 'Interception' 'Dispossessed'\n",
      " 'Miscontrol' 'Block' 'Foul Committed' 'Foul Won' 'Shot' 'Goal Keeper'\n",
      " 'Shield' '50/50' 'Dribble' 'Dribbled Past' 'Injury Stoppage' 'Player Off'\n",
      " 'Player On' 'Half End' 'Error' 'Substitution' 'Tactical Shift']\n",
      "------------pass_outcome----------------\n",
      "[nan 'Incomplete' 'Out' 'Unknown' 'Pass Offside']\n",
      "------------pass_type-------------\n",
      "[nan 'Kick Off' 'Throw-in' 'Recovery' 'Free Kick' 'Goal Kick' 'Corner'\n",
      " 'Interception']\n",
      "------------pass_height----------------\n",
      "[nan 'Ground Pass' 'High Pass' 'Low Pass']\n"
     ]
    }
   ],
   "source": [
    "print('------------distinct_types----------------')\n",
    "print(events['type'].unique())\n",
    "print('------------pass_outcome----------------')\n",
    "print(events['pass_outcome'].unique())\n",
    "print('------------pass_type-------------')\n",
    "print(events['pass_type'].unique())\n",
    "print('------------pass_height----------------')\n",
    "print(events['pass_height'].unique())"
   ]
  },
  {
   "cell_type": "code",
   "execution_count": null,
   "id": "da00bb0a",
   "metadata": {},
   "outputs": [
    {
     "data": {
      "text/html": [
       "<div>\n",
       "<style scoped>\n",
       "    .dataframe tbody tr th:only-of-type {\n",
       "        vertical-align: middle;\n",
       "    }\n",
       "\n",
       "    .dataframe tbody tr th {\n",
       "        vertical-align: top;\n",
       "    }\n",
       "\n",
       "    .dataframe thead th {\n",
       "        text-align: right;\n",
       "    }\n",
       "</style>\n",
       "<table border=\"1\" class=\"dataframe\">\n",
       "  <thead>\n",
       "    <tr style=\"text-align: right;\">\n",
       "      <th></th>\n",
       "      <th>team</th>\n",
       "      <th>Shots</th>\n",
       "    </tr>\n",
       "  </thead>\n",
       "  <tbody>\n",
       "    <tr>\n",
       "      <th>1</th>\n",
       "      <td>Hamburger SV</td>\n",
       "      <td>5</td>\n",
       "    </tr>\n",
       "    <tr>\n",
       "      <th>0</th>\n",
       "      <td>Bayern Munich</td>\n",
       "      <td>22</td>\n",
       "    </tr>\n",
       "  </tbody>\n",
       "</table>\n",
       "</div>"
      ],
      "text/plain": [
       "            team  Shots\n",
       "1   Hamburger SV      5\n",
       "0  Bayern Munich     22"
      ]
     },
     "execution_count": 51,
     "metadata": {},
     "output_type": "execute_result"
    }
   ],
   "source": [
    "all_shots = events[events['type'] == 'Shot'].dropna(axis=1, how='all').groupby(['team']).size().reset_index(name='Shots').sort_values(['team','Shots'], ascending=False)\n",
    "\n",
    "goals =  events[(\n",
    "    events['type'] == 'Shot') & \n",
    "    (events['shot_outcome'] == 'Goal') \n",
    "].dropna(axis=1, how='all'\n",
    ").groupby(['team']\n",
    ").size(\n",
    ").reset_index(name='Goals'\n",
    ").sort_values(['team','Goals'], ascending=False)\n",
    "\n",
    "#Still wrong (Duels: 128,  Source: Kicker https://www.kicker.de/bayern-gegen-hsv-2015-bundesliga-2854915/spieldaten)\n",
    "duels = duels_per_team = events[(events['type'] == 'Duel')].dropna(axis=1, how='all').shape[0]\n",
    "\n",
    "won_duels = events[\n",
    "    (events['type'] == 'Duel') |\n",
    "     #(events['duel_outcome'] == 'Success In Play') |\n",
    "    (events['type'] == '50/50')\n",
    "].dropna(axis=1, how='all')\n",
    "\n",
    "\n",
    "\n",
    "# Calculate total passes\n",
    "total_passes = (events[events['type'] == 'Pass']\n",
    "               .groupby('team')\n",
    "               .size()\n",
    "               .reset_index(name='total_passes'))\n",
    "\n",
    "# Calculate completed passes (successful passes with no outcome)\n",
    "completed_passes = (events[(events['type'] == 'Pass') & \n",
    "                         (events['pass_outcome'].isnull())]\n",
    "                  .groupby('team')\n",
    "                  .size()\n",
    "                  .reset_index(name='completed_passes'))\n"
   ]
  },
  {
   "cell_type": "code",
   "execution_count": 62,
   "id": "5bfd6ea0",
   "metadata": {},
   "outputs": [
    {
     "data": {
      "text/html": [
       "<div>\n",
       "<style scoped>\n",
       "    .dataframe tbody tr th:only-of-type {\n",
       "        vertical-align: middle;\n",
       "    }\n",
       "\n",
       "    .dataframe tbody tr th {\n",
       "        vertical-align: top;\n",
       "    }\n",
       "\n",
       "    .dataframe thead th {\n",
       "        text-align: right;\n",
       "    }\n",
       "</style>\n",
       "<table border=\"1\" class=\"dataframe\">\n",
       "  <thead>\n",
       "    <tr style=\"text-align: right;\">\n",
       "      <th></th>\n",
       "      <th>team</th>\n",
       "      <th>completed_passes</th>\n",
       "      <th>total_passes</th>\n",
       "      <th>completion_percentage</th>\n",
       "      <th>Shots</th>\n",
       "      <th>duels</th>\n",
       "      <th>Goals</th>\n",
       "    </tr>\n",
       "  </thead>\n",
       "  <tbody>\n",
       "    <tr>\n",
       "      <th>0</th>\n",
       "      <td>Bayern Munich</td>\n",
       "      <td>711</td>\n",
       "      <td>797</td>\n",
       "      <td>89.209536</td>\n",
       "      <td>22</td>\n",
       "      <td>76</td>\n",
       "      <td>5.0</td>\n",
       "    </tr>\n",
       "    <tr>\n",
       "      <th>1</th>\n",
       "      <td>Hamburger SV</td>\n",
       "      <td>150</td>\n",
       "      <td>240</td>\n",
       "      <td>62.500000</td>\n",
       "      <td>5</td>\n",
       "      <td>76</td>\n",
       "      <td>0.0</td>\n",
       "    </tr>\n",
       "  </tbody>\n",
       "</table>\n",
       "</div>"
      ],
      "text/plain": [
       "            team  completed_passes  total_passes  completion_percentage  \\\n",
       "0  Bayern Munich               711           797              89.209536   \n",
       "1   Hamburger SV               150           240              62.500000   \n",
       "\n",
       "   Shots  duels  Goals  \n",
       "0     22     76    5.0  \n",
       "1      5     76    0.0  "
      ]
     },
     "execution_count": 62,
     "metadata": {},
     "output_type": "execute_result"
    }
   ],
   "source": [
    "# Joining all Stat Dataframes together\n",
    "team_stats = pd.merge(completed_passes, total_passes, on='team')\n",
    "# Calculate completion percentage\n",
    "team_stats['completion_percentage'] = (team_stats['completed_passes'] / \n",
    "                                     team_stats['total_passes']) * 100\n",
    "\n",
    "team_stats = pd.merge(team_stats, all_shots, on='team')\n",
    "team_stats['duels'] = duels\n",
    "team_stats = pd.merge(team_stats, goals, on='team', how='outer').fillna(0)\n",
    "\n",
    "\n",
    "\n",
    "team_stats.head()"
   ]
  }
 ],
 "metadata": {
  "kernelspec": {
   "display_name": "base",
   "language": "python",
   "name": "python3"
  },
  "language_info": {
   "codemirror_mode": {
    "name": "ipython",
    "version": 3
   },
   "file_extension": ".py",
   "mimetype": "text/x-python",
   "name": "python",
   "nbconvert_exporter": "python",
   "pygments_lexer": "ipython3",
   "version": "3.12.7"
  }
 },
 "nbformat": 4,
 "nbformat_minor": 5
}
